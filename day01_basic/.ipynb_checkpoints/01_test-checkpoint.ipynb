{
 "cells": [
  {
   "cell_type": "code",
   "execution_count": 1,
   "id": "94df5c8c-5921-4407-baf3-8a2ff46009a1",
   "metadata": {},
   "outputs": [
    {
     "name": "stdout",
     "output_type": "stream",
     "text": [
      "hello wrld!!\n"
     ]
    }
   ],
   "source": [
    "print('hello wrld!!')"
   ]
  },
  {
   "cell_type": "code",
   "execution_count": 2,
   "id": "4de0c7f1-d5bc-4e2a-8f6d-0d20ffec542d",
   "metadata": {},
   "outputs": [
    {
     "name": "stdout",
     "output_type": "stream",
     "text": [
      "한글\n"
     ]
    }
   ],
   "source": [
    "print('한글')"
   ]
  },
  {
   "cell_type": "code",
   "execution_count": null,
   "id": "98839c74-22f7-4ebb-bee8-366b7cea90c3",
   "metadata": {},
   "outputs": [],
   "source": []
  }
 ],
 "metadata": {
  "kernelspec": {
   "display_name": "Python 3 (ipykernel)",
   "language": "python",
   "name": "python3"
  },
  "language_info": {
   "codemirror_mode": {
    "name": "ipython",
    "version": 3
   },
   "file_extension": ".py",
   "mimetype": "text/x-python",
   "name": "python",
   "nbconvert_exporter": "python",
   "pygments_lexer": "ipython3",
   "version": "3.9.7"
  }
 },
 "nbformat": 4,
 "nbformat_minor": 5
}
