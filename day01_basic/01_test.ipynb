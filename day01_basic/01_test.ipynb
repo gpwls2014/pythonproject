{
 "cells": [
  {
   "cell_type": "code",
   "execution_count": 1,
   "id": "94df5c8c-5921-4407-baf3-8a2ff46009a1",
   "metadata": {},
   "outputs": [
    {
     "name": "stdout",
     "output_type": "stream",
     "text": [
      "hello wrld!!\n"
     ]
    }
   ],
   "source": [
    "print('hello wrld!!')"
   ]
  },
  {
   "cell_type": "code",
   "execution_count": 2,
   "id": "4de0c7f1-d5bc-4e2a-8f6d-0d20ffec542d",
   "metadata": {},
   "outputs": [
    {
     "name": "stdout",
     "output_type": "stream",
     "text": [
      "한글\n"
     ]
    }
   ],
   "source": [
    "print('한글')"
   ]
  },
  {
   "cell_type": "code",
   "execution_count": 2,
   "id": "98839c74-22f7-4ebb-bee8-366b7cea90c3",
   "metadata": {},
   "outputs": [],
   "source": [
    "a = 5\n",
    "if a == 10:\n",
    "    print('10입니다')\n",
    "    print('10입니다')"
   ]
  },
  {
   "cell_type": "code",
   "execution_count": 3,
   "id": "4a08831d-732a-4465-b0b4-5a491722e8af",
   "metadata": {},
   "outputs": [
    {
     "data": {
      "text/plain": [
       "3"
      ]
     },
     "execution_count": 3,
     "metadata": {},
     "output_type": "execute_result"
    }
   ],
   "source": [
    "1+1+1"
   ]
  },
  {
   "cell_type": "code",
   "execution_count": 4,
   "id": "7305745c-e2fa-4533-9cf3-0080d38fabff",
   "metadata": {},
   "outputs": [
    {
     "data": {
      "text/plain": [
       "2.0"
      ]
     },
     "execution_count": 4,
     "metadata": {},
     "output_type": "execute_result"
    }
   ],
   "source": [
    "1+1.0"
   ]
  },
  {
   "cell_type": "code",
   "execution_count": 5,
   "id": "fdd27512-6e2a-4a79-8fe2-34134648e54b",
   "metadata": {},
   "outputs": [
    {
     "data": {
      "text/plain": [
       "2.0"
      ]
     },
     "execution_count": 5,
     "metadata": {},
     "output_type": "execute_result"
    }
   ],
   "source": [
    "4/2"
   ]
  },
  {
   "cell_type": "raw",
   "id": "bc56d362-e600-47bb-aecc-851365b7ff7c",
   "metadata": {},
   "source": [
    "+,-,*,/,//,%,**"
   ]
  },
  {
   "cell_type": "markdown",
   "id": "ce2a1318-4acc-434e-8a58-d9fe06a6da90",
   "metadata": {},
   "source": [
    "# 제목"
   ]
  },
  {
   "cell_type": "markdown",
   "id": "e3085f90-5261-4b5e-af9f-bd8a1c751af0",
   "metadata": {},
   "source": [
    "[네이버](http://www.naver.com)"
   ]
  },
  {
   "cell_type": "markdown",
   "id": "60e03ce0-94c8-4ff2-912f-687494cc9ddb",
   "metadata": {},
   "source": [
    "![](img01.jpg)"
   ]
  },
  {
   "cell_type": "code",
   "execution_count": 11,
   "id": "5ed8d95a-defa-428a-bba9-25d371bf8481",
   "metadata": {},
   "outputs": [
    {
     "name": "stdin",
     "output_type": "stream",
     "text": [
      "숫자를 입력하세요 >>>  3\n"
     ]
    }
   ],
   "source": [
    "a = input('숫자를 입력하세요 >>> ')"
   ]
  },
  {
   "cell_type": "code",
   "execution_count": 13,
   "id": "e5a22507-5af8-4ade-af23-0c684b7f39b8",
   "metadata": {
    "collapsed": true,
    "jupyter": {
     "outputs_hidden": true
    },
    "tags": []
   },
   "outputs": [
    {
     "name": "stdin",
     "output_type": "stream",
     "text": [
      "숫자를 입력하세요 >>>  56\n"
     ]
    },
    {
     "ename": "TypeError",
     "evalue": "unsupported operand type(s) for /: 'str' and 'int'",
     "output_type": "error",
     "traceback": [
      "\u001b[1;31m---------------------------------------------------------------------------\u001b[0m",
      "\u001b[1;31mTypeError\u001b[0m                                 Traceback (most recent call last)",
      "\u001b[1;32m~\\AppData\\Local\\Temp/ipykernel_2624/911842351.py\u001b[0m in \u001b[0;36m<module>\u001b[1;34m\u001b[0m\n\u001b[0;32m      1\u001b[0m \u001b[0ma\u001b[0m \u001b[1;33m=\u001b[0m \u001b[0minput\u001b[0m\u001b[1;33m(\u001b[0m\u001b[1;34m'숫자를 입력하세요 >>> '\u001b[0m\u001b[1;33m)\u001b[0m\u001b[1;33m\u001b[0m\u001b[1;33m\u001b[0m\u001b[0m\n\u001b[1;32m----> 2\u001b[1;33m \u001b[0ma\u001b[0m\u001b[1;33m/\u001b[0m\u001b[1;36m2\u001b[0m\u001b[1;33m\u001b[0m\u001b[1;33m\u001b[0m\u001b[0m\n\u001b[0m",
      "\u001b[1;31mTypeError\u001b[0m: unsupported operand type(s) for /: 'str' and 'int'"
     ]
    }
   ],
   "source": [
    "a = input('숫자를 입력하세요 >>> ')\n",
    "a/2"
   ]
  },
  {
   "cell_type": "code",
   "execution_count": 15,
   "id": "b8cd13db-96c3-41a5-8649-74ffaacafc05",
   "metadata": {
    "collapsed": true,
    "jupyter": {
     "outputs_hidden": true
    },
    "tags": []
   },
   "outputs": [
    {
     "ename": "SyntaxError",
     "evalue": "invalid syntax (Temp/ipykernel_2624/1771669374.py, line 1)",
     "output_type": "error",
     "traceback": [
      "\u001b[1;36m  File \u001b[1;32m\"C:\\Users\\Admin\\AppData\\Local\\Temp/ipykernel_2624/1771669374.py\"\u001b[1;36m, line \u001b[1;32m1\u001b[0m\n\u001b[1;33m    input? #input() 범위안에 커서 두고 tab+shift\u001b[0m\n\u001b[1;37m         ^\u001b[0m\n\u001b[1;31mSyntaxError\u001b[0m\u001b[1;31m:\u001b[0m invalid syntax\n"
     ]
    }
   ],
   "source": [
    "input? #input() 범위안에 커서 두고 tab+shift"
   ]
  },
  {
   "cell_type": "code",
   "execution_count": 16,
   "id": "0019c8f7-f4f5-4c5f-bb5e-7c6a8df84dc2",
   "metadata": {},
   "outputs": [
    {
     "name": "stdin",
     "output_type": "stream",
     "text": [
      "숫자를 입력하세요 >>>  56\n"
     ]
    }
   ],
   "source": [
    "a = input('숫자를 입력하세요 >>> ')"
   ]
  },
  {
   "cell_type": "code",
   "execution_count": 17,
   "id": "362c6c90-061b-4368-b33d-cefed7cbe1e7",
   "metadata": {},
   "outputs": [
    {
     "data": {
      "text/plain": [
       "str"
      ]
     },
     "execution_count": 17,
     "metadata": {},
     "output_type": "execute_result"
    }
   ],
   "source": [
    "type(a)"
   ]
  },
  {
   "cell_type": "code",
   "execution_count": 18,
   "id": "4caa5448-49e0-401f-bd17-e72e87edd16f",
   "metadata": {},
   "outputs": [],
   "source": [
    "a = int(a)"
   ]
  },
  {
   "cell_type": "code",
   "execution_count": 19,
   "id": "b2a98e95-265e-4c0e-9b4a-5de2b1cec66d",
   "metadata": {},
   "outputs": [
    {
     "data": {
      "text/plain": [
       "int"
      ]
     },
     "execution_count": 19,
     "metadata": {},
     "output_type": "execute_result"
    }
   ],
   "source": [
    "type(a)"
   ]
  },
  {
   "cell_type": "code",
   "execution_count": 21,
   "id": "59945cb8-9818-44fa-bead-e90fc075468d",
   "metadata": {},
   "outputs": [
    {
     "data": {
      "text/plain": [
       "float"
      ]
     },
     "execution_count": 21,
     "metadata": {},
     "output_type": "execute_result"
    }
   ],
   "source": [
    "a = float(a)\n",
    "type(a)"
   ]
  },
  {
   "cell_type": "code",
   "execution_count": 22,
   "id": "0bc4408b-c4f1-4d1b-bf9f-e1406207462e",
   "metadata": {},
   "outputs": [
    {
     "data": {
      "text/plain": [
       "str"
      ]
     },
     "execution_count": 22,
     "metadata": {},
     "output_type": "execute_result"
    }
   ],
   "source": [
    "a = str(a)\n",
    "type(a)"
   ]
  },
  {
   "cell_type": "code",
   "execution_count": 23,
   "id": "fca7aeef-eeca-46fc-b5eb-fd1d9c210933",
   "metadata": {},
   "outputs": [
    {
     "name": "stdin",
     "output_type": "stream",
     "text": [
      "숫자를 입력하세요 가나다\n"
     ]
    },
    {
     "data": {
      "text/plain": [
       "str"
      ]
     },
     "execution_count": 23,
     "metadata": {},
     "output_type": "execute_result"
    }
   ],
   "source": [
    "b = input('숫자를 입력하세요')\n",
    "type(b)"
   ]
  },
  {
   "cell_type": "code",
   "execution_count": 25,
   "id": "86f60278-9c2f-4adf-a8b6-a4ac8dc218cd",
   "metadata": {
    "collapsed": true,
    "jupyter": {
     "outputs_hidden": true
    },
    "tags": []
   },
   "outputs": [
    {
     "ename": "ValueError",
     "evalue": "invalid literal for int() with base 10: '가나다'",
     "output_type": "error",
     "traceback": [
      "\u001b[1;31m---------------------------------------------------------------------------\u001b[0m",
      "\u001b[1;31mValueError\u001b[0m                                Traceback (most recent call last)",
      "\u001b[1;32m~\\AppData\\Local\\Temp/ipykernel_2624/3956108814.py\u001b[0m in \u001b[0;36m<module>\u001b[1;34m\u001b[0m\n\u001b[1;32m----> 1\u001b[1;33m \u001b[0mint\u001b[0m\u001b[1;33m(\u001b[0m\u001b[0mb\u001b[0m\u001b[1;33m)\u001b[0m\u001b[1;33m\u001b[0m\u001b[1;33m\u001b[0m\u001b[0m\n\u001b[0m",
      "\u001b[1;31mValueError\u001b[0m: invalid literal for int() with base 10: '가나다'"
     ]
    }
   ],
   "source": [
    "int(b)"
   ]
  },
  {
   "cell_type": "code",
   "execution_count": 27,
   "id": "38d79c2e-244a-43be-897b-b6b7729e6e7c",
   "metadata": {},
   "outputs": [
    {
     "data": {
      "text/plain": [
       "False"
      ]
     },
     "execution_count": 27,
     "metadata": {},
     "output_type": "execute_result"
    }
   ],
   "source": [
    "b.isdecimal()"
   ]
  },
  {
   "cell_type": "code",
   "execution_count": 26,
   "id": "076c1a80-5874-4220-be91-4183625d07b2",
   "metadata": {},
   "outputs": [],
   "source": [
    "# 박스당 과일을 넣어서 몇박스 몇개인지를 출력해주는 프로그램 작성\n",
    "  - 조건체크 : 입력값이 숫자인지 여부 체크해서 진행\n",
    "  - 입력 받을 값 : 박스당 과일수, 전체 과일수\n",
    "  - 출력 내용 : x박스 x개\n"
   ]
  },
  {
   "cell_type": "code",
   "execution_count": 28,
   "id": "b335f1f1-6ab7-4eb6-a602-7b2e5ea76b54",
   "metadata": {
    "jupyter": {
     "source_hidden": true
    },
    "tags": []
   },
   "outputs": [
    {
     "name": "stdout",
     "output_type": "stream",
     "text": [
      "문자일때 할일\n"
     ]
    }
   ],
   "source": [
    "if b.isdecimal():\n",
    "    print('참일때 해야될일')\n",
    "elif b.isalpha():\n",
    "    print('문자일때 할일')\n",
    "else :\n",
    "    print('그외 나머지')"
   ]
  },
  {
   "cell_type": "code",
   "execution_count": 36,
   "id": "2fb53b5a-0633-423d-89a7-16fe4a9f6b60",
   "metadata": {},
   "outputs": [
    {
     "name": "stdin",
     "output_type": "stream",
     "text": [
      "박스당 과일의 갯수 >>> 6\n",
      "전체 과일수 >>> 324\n"
     ]
    },
    {
     "name": "stdout",
     "output_type": "stream",
     "text": [
      "54 박스  0 개\n"
     ]
    }
   ],
   "source": [
    "a1 = input('박스당 과일의 갯수 >>>')\n",
    "a2 = input('전체 과일수 >>>')\n",
    "\n",
    "if a1.isdecimal() and a2.isdecimal():\n",
    "    a1,a2 = int(a1), int(a2)\n",
    "    box = a2//a1\n",
    "    count = a2%a1\n",
    "    print(box,'박스 ',count,'개')\n",
    "else:\n",
    "    print('입력값이 잘못되었습니다.')\n",
    "    "
   ]
  },
  {
   "cell_type": "code",
   "execution_count": 38,
   "id": "f15e8b78-f646-4c5b-8aa4-56c150ce4abf",
   "metadata": {},
   "outputs": [],
   "source": [
    "a = divmod(5,2)"
   ]
  },
  {
   "cell_type": "code",
   "execution_count": 39,
   "id": "8c8ca65b-ec67-4b94-8737-1394c15e80be",
   "metadata": {},
   "outputs": [
    {
     "data": {
      "text/plain": [
       "(2, 1)"
      ]
     },
     "execution_count": 39,
     "metadata": {},
     "output_type": "execute_result"
    }
   ],
   "source": [
    "a"
   ]
  },
  {
   "cell_type": "code",
   "execution_count": 40,
   "id": "ae83fccc-b6ea-4311-b16e-4bd9a2c1a1a3",
   "metadata": {},
   "outputs": [
    {
     "data": {
      "text/plain": [
       "2"
      ]
     },
     "execution_count": 40,
     "metadata": {},
     "output_type": "execute_result"
    }
   ],
   "source": [
    "a[0]"
   ]
  },
  {
   "cell_type": "code",
   "execution_count": 41,
   "id": "bb7a0d25-a3c0-4da0-8f48-542bed679c10",
   "metadata": {},
   "outputs": [
    {
     "data": {
      "text/plain": [
       "5"
      ]
     },
     "execution_count": 41,
     "metadata": {},
     "output_type": "execute_result"
    }
   ],
   "source": [
    "0b00101"
   ]
  },
  {
   "cell_type": "code",
   "execution_count": 42,
   "id": "e2151d21-db78-4979-bc82-3231e5681ffd",
   "metadata": {},
   "outputs": [
    {
     "data": {
      "text/plain": [
       "342391"
      ]
     },
     "execution_count": 42,
     "metadata": {},
     "output_type": "execute_result"
    }
   ],
   "source": [
    "0o1234567"
   ]
  },
  {
   "cell_type": "code",
   "execution_count": 43,
   "id": "138bcfad-75ab-4223-a60e-e12f82d21d2f",
   "metadata": {},
   "outputs": [
    {
     "data": {
      "text/plain": [
       "16777215"
      ]
     },
     "execution_count": 43,
     "metadata": {},
     "output_type": "execute_result"
    }
   ],
   "source": [
    "0xffffff"
   ]
  },
  {
   "cell_type": "code",
   "execution_count": 44,
   "id": "75090ea1-5feb-4a69-88ec-746b5b8af75d",
   "metadata": {},
   "outputs": [],
   "source": [
    "up7 = 'hhhh'"
   ]
  },
  {
   "cell_type": "code",
   "execution_count": 45,
   "id": "d62e7d59-de6b-4db3-b28b-41b985fc4878",
   "metadata": {},
   "outputs": [
    {
     "data": {
      "text/plain": [
       "'hhhh'"
      ]
     },
     "execution_count": 45,
     "metadata": {},
     "output_type": "execute_result"
    }
   ],
   "source": [
    "up7"
   ]
  },
  {
   "cell_type": "code",
   "execution_count": 46,
   "id": "0d9b47d1-c876-40f7-888d-dcdb7e47f244",
   "metadata": {},
   "outputs": [],
   "source": [
    "del up7"
   ]
  },
  {
   "cell_type": "code",
   "execution_count": 47,
   "id": "c1753eb4-3bc6-4fb0-818e-0d1a0eeb67d3",
   "metadata": {},
   "outputs": [
    {
     "ename": "NameError",
     "evalue": "name 'up7' is not defined",
     "output_type": "error",
     "traceback": [
      "\u001b[1;31m---------------------------------------------------------------------------\u001b[0m",
      "\u001b[1;31mNameError\u001b[0m                                 Traceback (most recent call last)",
      "\u001b[1;32m~\\AppData\\Local\\Temp/ipykernel_2624/1661159455.py\u001b[0m in \u001b[0;36m<module>\u001b[1;34m\u001b[0m\n\u001b[1;32m----> 1\u001b[1;33m \u001b[0mup7\u001b[0m\u001b[1;33m\u001b[0m\u001b[1;33m\u001b[0m\u001b[0m\n\u001b[0m",
      "\u001b[1;31mNameError\u001b[0m: name 'up7' is not defined"
     ]
    }
   ],
   "source": [
    "up7"
   ]
  },
  {
   "cell_type": "code",
   "execution_count": 49,
   "id": "52637edc-9017-4aa8-b3ef-8c482b12a895",
   "metadata": {},
   "outputs": [],
   "source": [
    "a = [1,2,3,4,5]"
   ]
  },
  {
   "cell_type": "code",
   "execution_count": 50,
   "id": "12e0f12c-974b-4f3c-94cb-3d349e8951f6",
   "metadata": {},
   "outputs": [
    {
     "data": {
      "text/plain": [
       "list"
      ]
     },
     "execution_count": 50,
     "metadata": {},
     "output_type": "execute_result"
    }
   ],
   "source": [
    "type(a)"
   ]
  },
  {
   "cell_type": "code",
   "execution_count": 52,
   "id": "d7d1a0e5-c903-404e-8f34-9a6fd440e635",
   "metadata": {},
   "outputs": [
    {
     "data": {
      "text/plain": [
       "5"
      ]
     },
     "execution_count": 52,
     "metadata": {},
     "output_type": "execute_result"
    }
   ],
   "source": [
    "a[4]"
   ]
  },
  {
   "cell_type": "code",
   "execution_count": 53,
   "id": "0491825c-fa50-4a48-8a36-c1b74048dc48",
   "metadata": {},
   "outputs": [],
   "source": [
    "del a[1]"
   ]
  },
  {
   "cell_type": "code",
   "execution_count": 54,
   "id": "08aae20a-5763-4dc2-92d3-321072737008",
   "metadata": {},
   "outputs": [
    {
     "data": {
      "text/plain": [
       "[1, 3, 4, 5]"
      ]
     },
     "execution_count": 54,
     "metadata": {},
     "output_type": "execute_result"
    }
   ],
   "source": [
    "a"
   ]
  },
  {
   "cell_type": "code",
   "execution_count": 55,
   "id": "7ad2768e-af6d-4dbb-974f-fd7a4c0914fc",
   "metadata": {},
   "outputs": [
    {
     "data": {
      "text/plain": [
       "['안녕', '하세요']"
      ]
     },
     "execution_count": 55,
     "metadata": {},
     "output_type": "execute_result"
    }
   ],
   "source": [
    "'안녕 하세요'.split()"
   ]
  },
  {
   "cell_type": "code",
   "execution_count": 56,
   "id": "0af9c2b2-9946-414f-988b-1dfce8f5f9f9",
   "metadata": {},
   "outputs": [
    {
     "data": {
      "text/plain": [
       "['안녕', '하세요']"
      ]
     },
     "execution_count": 56,
     "metadata": {},
     "output_type": "execute_result"
    }
   ],
   "source": [
    "a = '안녕 하세요'\n",
    "a.split()"
   ]
  },
  {
   "cell_type": "code",
   "execution_count": 57,
   "id": "dd57e485-2385-40a8-95b8-c490f8c97e33",
   "metadata": {},
   "outputs": [
    {
     "name": "stdin",
     "output_type": "stream",
     "text": [
      " 안녕 하세요 오늘 정말 날씨가 좋ㅇ요\n"
     ]
    },
    {
     "data": {
      "text/plain": [
       "['안녕', '하세요', '오늘', '정말', '날씨가', '좋ㅇ요']"
      ]
     },
     "execution_count": 57,
     "metadata": {},
     "output_type": "execute_result"
    }
   ],
   "source": [
    "input().split()"
   ]
  },
  {
   "cell_type": "code",
   "execution_count": 63,
   "id": "71d7daa6-bbba-47cd-ab47-43a88b94ce9e",
   "metadata": {},
   "outputs": [
    {
     "name": "stdout",
     "output_type": "stream",
     "text": [
      "a,b,cddd\n"
     ]
    }
   ],
   "source": [
    "print('a','b','c',sep=',',end='')\n",
    "print('ddd')"
   ]
  },
  {
   "cell_type": "raw",
   "id": "ba3b3b9f-7615-4677-9deb-bdbfe7467a53",
   "metadata": {},
   "source": [
    "true,false"
   ]
  },
  {
   "cell_type": "code",
   "execution_count": 65,
   "id": "17d942d9-a9ec-4e09-9d79-e90ced2bdd9d",
   "metadata": {},
   "outputs": [
    {
     "data": {
      "text/plain": [
       "True"
      ]
     },
     "execution_count": 65,
     "metadata": {},
     "output_type": "execute_result"
    }
   ],
   "source": [
    "a = 1\n",
    "b = 1.0\n",
    "a == b"
   ]
  },
  {
   "cell_type": "code",
   "execution_count": 66,
   "id": "04092127-6372-4dbb-bca8-4c96103346f1",
   "metadata": {},
   "outputs": [
    {
     "data": {
      "text/plain": [
       "False"
      ]
     },
     "execution_count": 66,
     "metadata": {},
     "output_type": "execute_result"
    }
   ],
   "source": [
    "a is b"
   ]
  },
  {
   "cell_type": "code",
   "execution_count": 67,
   "id": "8c9ca6ec-d689-43e6-ae0a-9c97c35a9e88",
   "metadata": {},
   "outputs": [
    {
     "data": {
      "text/plain": [
       "'교실에서 \"안녕!\"이라고 인사하기'"
      ]
     },
     "execution_count": 67,
     "metadata": {},
     "output_type": "execute_result"
    }
   ],
   "source": [
    "'교실에서 \"안녕!\"이라고 인사하기'"
   ]
  },
  {
   "cell_type": "code",
   "execution_count": 68,
   "id": "f1ce1532-489b-4691-bd33-06ba32b3c37f",
   "metadata": {},
   "outputs": [
    {
     "data": {
      "text/plain": [
       "'안녕\\n하세요\\n안녕!\\n'"
      ]
     },
     "execution_count": 68,
     "metadata": {},
     "output_type": "execute_result"
    }
   ],
   "source": [
    "'''안녕\n",
    "하세요\n",
    "안녕!\n",
    "'''"
   ]
  },
  {
   "cell_type": "code",
   "execution_count": 69,
   "id": "1b34df5d-de4d-40df-9c97-b95c706a6fae",
   "metadata": {},
   "outputs": [
    {
     "data": {
      "text/plain": [
       "'아\\n니\\n'"
      ]
     },
     "execution_count": 69,
     "metadata": {},
     "output_type": "execute_result"
    }
   ],
   "source": [
    "'아\\n니\\n'"
   ]
  },
  {
   "cell_type": "code",
   "execution_count": 81,
   "id": "723edffa-f500-4543-88ad-5f92ba72bc85",
   "metadata": {},
   "outputs": [
    {
     "data": {
      "text/plain": [
       "'i eat 321212.12  apple. total 6'"
      ]
     },
     "execution_count": 81,
     "metadata": {},
     "output_type": "execute_result"
    }
   ],
   "source": [
    "value = 321212.1234567\n",
    "'i eat {:^10.2f} apple. total {}'.format(value,6)"
   ]
  },
  {
   "cell_type": "code",
   "execution_count": 82,
   "id": "e051e640-840f-4b2b-9e5b-300806ae1acf",
   "metadata": {},
   "outputs": [
    {
     "data": {
      "text/plain": [
       "'i eat 321,212.12 apple.'"
      ]
     },
     "execution_count": 82,
     "metadata": {},
     "output_type": "execute_result"
    }
   ],
   "source": [
    "f'i eat {value:^10,.2f} apple.'"
   ]
  },
  {
   "cell_type": "code",
   "execution_count": 83,
   "id": "96d9a3b8-1c16-4769-a7bc-1ffe74bbcd1a",
   "metadata": {},
   "outputs": [],
   "source": [
    "a = \"Life is too short\""
   ]
  },
  {
   "cell_type": "code",
   "execution_count": 84,
   "id": "ed99a45e-119e-40df-b7bc-f3c8b730a4f5",
   "metadata": {},
   "outputs": [
    {
     "data": {
      "text/plain": [
       "17"
      ]
     },
     "execution_count": 84,
     "metadata": {},
     "output_type": "execute_result"
    }
   ],
   "source": [
    "len(a)"
   ]
  },
  {
   "cell_type": "code",
   "execution_count": 85,
   "id": "9fac3ca9-3dad-44dc-8e55-c8f0b696847e",
   "metadata": {},
   "outputs": [],
   "source": [
    "a = \"Life is too short, You need Python\""
   ]
  },
  {
   "cell_type": "code",
   "execution_count": 86,
   "id": "ffc963f7-0b90-485d-b3f4-a3b508f62cc4",
   "metadata": {},
   "outputs": [
    {
     "data": {
      "text/plain": [
       "'s'"
      ]
     },
     "execution_count": 86,
     "metadata": {},
     "output_type": "execute_result"
    }
   ],
   "source": [
    "a[12]"
   ]
  },
  {
   "cell_type": "code",
   "execution_count": 87,
   "id": "36384db5-4ca4-4ed1-9309-d912989afae5",
   "metadata": {},
   "outputs": [
    {
     "data": {
      "text/plain": [
       "'hon'"
      ]
     },
     "execution_count": 87,
     "metadata": {},
     "output_type": "execute_result"
    }
   ],
   "source": [
    "a[-3:]"
   ]
  },
  {
   "cell_type": "code",
   "execution_count": 88,
   "id": "54d7e02a-34c7-4bd0-a2f0-4a7ce8fd5d13",
   "metadata": {},
   "outputs": [
    {
     "name": "stdin",
     "output_type": "stream",
     "text": [
      "이메일을 입력하세요 sh.co.kr\n"
     ]
    },
    {
     "data": {
      "text/plain": [
       "0"
      ]
     },
     "execution_count": 88,
     "metadata": {},
     "output_type": "execute_result"
    }
   ],
   "source": [
    "email = input('이메일을 입력하세요')\n",
    "count = email.count('@')"
   ]
  },
  {
   "cell_type": "code",
   "execution_count": null,
   "id": "c8ae5de6-3c5b-43b7-9c09-5afcc1534219",
   "metadata": {},
   "outputs": [],
   "source": []
  }
 ],
 "metadata": {
  "kernelspec": {
   "display_name": "Python 3 (ipykernel)",
   "language": "python",
   "name": "python3"
  },
  "language_info": {
   "codemirror_mode": {
    "name": "ipython",
    "version": 3
   },
   "file_extension": ".py",
   "mimetype": "text/x-python",
   "name": "python",
   "nbconvert_exporter": "python",
   "pygments_lexer": "ipython3",
   "version": "3.9.7"
  }
 },
 "nbformat": 4,
 "nbformat_minor": 5
}
